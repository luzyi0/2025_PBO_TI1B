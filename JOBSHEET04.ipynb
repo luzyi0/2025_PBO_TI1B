{
  "nbformat": 4,
  "nbformat_minor": 0,
  "metadata": {
    "colab": {
      "provenance": [],
      "authorship_tag": "ABX9TyNFg3Vnq8ChxXWUE86Rlwgo",
      "include_colab_link": true
    },
    "kernelspec": {
      "name": "python3",
      "display_name": "Python 3"
    },
    "language_info": {
      "name": "python"
    }
  },
  "cells": [
    {
      "cell_type": "markdown",
      "metadata": {
        "id": "view-in-github",
        "colab_type": "text"
      },
      "source": [
        "<a href=\"https://colab.research.google.com/github/luzyi0/2025_PBO_TI1B/blob/main/JOBSHEET04.ipynb\" target=\"_parent\"><img src=\"https://colab.research.google.com/assets/colab-badge.svg\" alt=\"Open In Colab\"/></a>"
      ]
    },
    {
      "cell_type": "markdown",
      "source": [
        "# PRAKTIKUM"
      ],
      "metadata": {
        "id": "nIPWva0ro7IN"
      }
    },
    {
      "cell_type": "markdown",
      "source": [
        "## Praktikum 01: Inheritance Dasar"
      ],
      "metadata": {
        "id": "W8QIEj7No_S7"
      }
    },
    {
      "cell_type": "code",
      "source": [
        "# Kelas Induk\n",
        "class Kendaraan:\n",
        "  def __init__(self, merk):\n",
        "    self.merk = merk\n",
        "  def mulai_mesin(self):\n",
        "    print(f\"Mesin kendaraan {self.merk} dinyalakan.\")\n",
        "\n",
        "# Kelas Anak\n",
        "class Mobil(Kendaraan):\n",
        "  def __init__(self, merk, warna):\n",
        "    self.merk = merk # Mewarisi 'merk' tapi di set ulang di sini\n",
        "    self.warna = warna # Atribut khusus mobil\n",
        "\n",
        "  def info_mobil(self):\n",
        "    print(f\"Ini adalah mobil {self.merk} berwarna {self.warna}.\")\n",
        "\n",
        "# Kode Utama\n",
        "if __name__ == \"__main__\":\n",
        "  mobil_tesla = Mobil(\"Tesla Model S\", \"Merah\")\n",
        "\n",
        "  #Memanggil metode dari kelas anak\n",
        "  mobil_tesla.info_mobil()\n",
        "\n",
        "  # Memanggil metode yang diwarisi dari kelas induk\n",
        "  mobil_tesla.mulai_mesin()\n",
        "\n",
        "  # Mengakses atribut yang diwarisi (dan di-set di anak)\n",
        "  print(f\"Merk mobil: {mobil_tesla.merk}\")"
      ],
      "metadata": {
        "id": "BJRmrCICpEo4",
        "outputId": "1a752a43-20a9-4ef1-f8e3-0843d026b0e6",
        "colab": {
          "base_uri": "https://localhost:8080/"
        }
      },
      "execution_count": null,
      "outputs": [
        {
          "output_type": "stream",
          "name": "stdout",
          "text": [
            "Ini adalah mobil Tesla Model S berwarna Merah.\n",
            "Mesin kendaraan Tesla Model S dinyalakan.\n",
            "Merk mobil: Tesla Model S\n"
          ]
        }
      ]
    },
    {
      "cell_type": "markdown",
      "source": [
        "## Praktikum 02: Menggunakan super() dalam konstruktor"
      ],
      "metadata": {
        "id": "jCoRBDPmq-fj"
      }
    },
    {
      "cell_type": "code",
      "source": [
        "# Kelas Induk\n",
        "class Person:\n",
        "  def __init__(self, nama, usia):\n",
        "    print(f\"(Memanggil __init__ Person untuk '{nama}')\")\n",
        "    self.nama = nama\n",
        "    self.usia = usia\n",
        "\n",
        "  def perkenalkan_diri(self):\n",
        "    print(f\"Halo, nama saya {self.nama}, usia saya {self.usia} tahun.\")\n",
        "\n",
        "# Kelas Anak\n",
        "class Student(Person):\n",
        "  def __init__(self, nama, usia, student_id, jurusan):\n",
        "    print(f\"(Memanggil __init__ Student untuk '{nama}')\")\n",
        "    # Memanggil __init__ dari kelas Person untuk inisialisasi nama dan usia\n",
        "    super().__init__(nama, usia)\n",
        "    # Menambahkan atribut khusus Student\n",
        "    self.student_id = student_id\n",
        "    self.jurusan = jurusan\n",
        "    print(f\"(Inisialisasi atribut selesai untuk '{nama}')\")\n",
        "\n",
        "  def info_akademik(self):\n",
        "    print(f\"ID Mahasiswa: {self.student_id}\")\n",
        "    print(f\"Jurusan: {self.jurusan}\")\n",
        "\n",
        "    # Override perkenalkan_diri untuk menambahkan info student\n",
        "    def perkenalkan_diri(self):\n",
        "      super().perkenalkan_diri() # Panggil varsi Person\n",
        "      print(f\"Saya adalah mahasiswa dengan ID {self.student_id}, jurusan {self.jurusan}.\")\n",
        "\n",
        "# Kode Utama\n",
        "if __name__ == \"__main__\":\n",
        "  # Membuat objek Person\n",
        "  dosen = Person(\"Pak Anton\", 45)\n",
        "  print(\"-\" * 20)\n",
        "  dosen.perkenalkan_diri()\n",
        "  print(\"\\n\" + \"=\" * 30 + \"\\n\")\n",
        "\n",
        "  # Membuat Objek Student\n",
        "  mahasiswa = Student(\"Dewi\", 20, \"MHS001\", \"Teknik Elektro\")\n",
        "  print(\"-\" * 20)\n",
        "  mahasiswa.perkenalkan_diri() # Panggil versi override di Student\n",
        "  print(\"-\" * 20)\n",
        "  mahasiswa.info_akademik() # Panggil metode khusus Student\n",
        "\n",
        "  # Cek atribut yang diwarisi\n",
        "  print(f\"\\nUsia mahasiswa {mahasiswa.nama}: {mahasiswa.usia}\")"
      ],
      "metadata": {
        "id": "CrEXoHpprEkF",
        "outputId": "a557f41a-865c-44db-b385-7b28a70f408e",
        "colab": {
          "base_uri": "https://localhost:8080/"
        }
      },
      "execution_count": null,
      "outputs": [
        {
          "output_type": "stream",
          "name": "stdout",
          "text": [
            "(Memanggil __init__ Person untuk 'Pak Anton')\n",
            "--------------------\n",
            "Halo, nama saya Pak Anton, usia saya 45 tahun.\n",
            "\n",
            "==============================\n",
            "\n",
            "(Memanggil __init__ Student untuk 'Dewi')\n",
            "(Memanggil __init__ Person untuk 'Dewi')\n",
            "(Inisialisasi atribut selesai untuk 'Dewi')\n",
            "--------------------\n",
            "Halo, nama saya Dewi, usia saya 20 tahun.\n",
            "--------------------\n",
            "ID Mahasiswa: MHS001\n",
            "Jurusan: Teknik Elektro\n",
            "\n",
            "Usia mahasiswa Dewi: 20\n"
          ]
        }
      ]
    },
    {
      "cell_type": "markdown",
      "source": [
        "## Praktikum 03: Method Overriding dan super()"
      ],
      "metadata": {
        "id": "FHfCn12-wKYw"
      }
    },
    {
      "cell_type": "code",
      "source": [
        "class Hewan: # Kelas Induk\n",
        "  def __init__(self, nama):\n",
        "    self.nama = nama\n",
        "\n",
        "  def bersuara(self):\n",
        "    print(f\"{self.nama} mengeluarkan suara generik.\")\n",
        "\n",
        "  def tampilkan_info(self):\n",
        "    print(f\"Ini adalah hewan bernama {self.nama}.\")\n",
        "\n",
        "class Kucing(Hewan): # Kelas Anak\n",
        "  def __init__(self, nama, ras):\n",
        "    super().__init__(nama) # Panggil init induk\n",
        "    self.ras = ras\n",
        "\n",
        "    def bersuara(self):\n",
        "      print(f\"{self.nama} (Kucing) mengeong: Meow!\")\n",
        "\n",
        "    def tampilkan_info(self):\n",
        "      super().tampilkan_info() # Panggil implementasi dari Hewan\n",
        "      print(f\"Ini adalah kucing ras {self.ras}.\")\n",
        "\n",
        "# Kode Utama\n",
        "if __name__ == \"__main__\":\n",
        "  hewan_umum = Hewan(\"Makhluk\")\n",
        "  kucing_persia = Kucing(\"Puspus\", \"Persia\")\n",
        "\n",
        "  print(\"Info Hewan Umum:\")\n",
        "  hewan_umum.tampilkan_info()\n",
        "  hewan_umum.bersuara()\n",
        "  print(\"-\" * 20)\n",
        "\n",
        "  print(\"Info Kucing Persia:\")\n",
        "  kucing_persia.tampilkan_info()\n",
        "  kucing_persia.bersuara()\n"
      ],
      "metadata": {
        "id": "HEejFU_IwV_u",
        "outputId": "f841003b-f55e-47d7-e7a3-809afa7a39e9",
        "colab": {
          "base_uri": "https://localhost:8080/"
        }
      },
      "execution_count": null,
      "outputs": [
        {
          "output_type": "stream",
          "name": "stdout",
          "text": [
            "Info Hewan Umum:\n",
            "Ini adalah hewan bernama Makhluk.\n",
            "Makhluk mengeluarkan suara generik.\n",
            "--------------------\n",
            "Info Kucing Persia:\n",
            "Ini adalah hewan bernama Puspus.\n",
            "Puspus mengeluarkan suara generik.\n"
          ]
        }
      ]
    },
    {
      "cell_type": "markdown",
      "source": [
        "## Praktikum 04: Multi-level Inheritance (Pewarisan Bertingkat)"
      ],
      "metadata": {
        "id": "639wLbFBypnn"
      }
    },
    {
      "cell_type": "code",
      "source": [
        "class Organisme: # INDUK\n",
        "  def __init__(self, nama):\n",
        "    self.nama = nama\n",
        "    print(f\"Organisme '{self.nama}' diciptakan.\")\n",
        "\n",
        "  def bernapas(self):\n",
        "    print(f\"{self.nama} sedang bernapas.\")\n",
        "\n",
        "# Kelas Anak Level 1 (mewarisi dari Organisme)\n",
        "class Hewan(Organisme):\n",
        "  def __init__(self, nama, jenis_makanan):\n",
        "    super().__init__(nama) # Panggil init Organisme\n",
        "    self.jenis_makanan = jenis_makanan\n",
        "    print(f\"Hewan '{self.nama}' adalah {self.jenis_makanan}.\")\n",
        "\n",
        "  def bergerak(self):\n",
        "    print(f\"{self.nama} sedang bergerak.\")\n",
        "\n",
        "# Kelas Anak Level 2\n",
        "class Mamalia(Hewan):\n",
        "  def __init__(self, nama, jenis_makanan, jumlah_kaki):\n",
        "    super().__init__(nama, jenis_makanan)\n",
        "    self.jumlah_kaki = jumlah_kaki\n",
        "    print(f\"Mamalia '{self.nama}' memiliki {self.jumlah_kaki} kaki.\")\n",
        "\n",
        "  def menyusui(self):\n",
        "    print(f\"{self.nama} sedang menyusui.\")\n",
        "\n",
        "# KODE UTAMA\n",
        "if __name__ == \"__main__\":\n",
        "  kucing = Mamalia(\"Kucing Persia\", \"Karnivora\", 4)\n",
        "  print(\"-\" * 20)\n",
        "\n",
        "  kucing.menyusui()\n",
        "  kucing.bergerak()\n",
        "  print(f\"Jenis makanan: {kucing.jenis_makanan}\")\n",
        "  kucing.bernapas()\n",
        "  print(f\"Nama organisme: {kucing.nama}\")"
      ],
      "metadata": {
        "id": "VAQwXZEpyzaU",
        "outputId": "dfa5a5b8-eed9-4af5-9559-c85b922da64d",
        "colab": {
          "base_uri": "https://localhost:8080/"
        }
      },
      "execution_count": null,
      "outputs": [
        {
          "output_type": "stream",
          "name": "stdout",
          "text": [
            "Organisme 'Kucing Persia' diciptakan.\n",
            "Hewan 'Kucing Persia' adalah Karnivora.\n",
            "Mamalia 'Kucing Persia' memiliki 4 kaki.\n",
            "--------------------\n",
            "Kucing Persia sedang menyusui.\n",
            "Kucing Persia sedang bergerak.\n",
            "Jenis makanan: Karnivora\n",
            "Kucing Persia sedang bernapas.\n",
            "Nama organisme: Kucing Persia\n"
          ]
        }
      ]
    },
    {
      "cell_type": "markdown",
      "source": [
        "## Praktikum 05: Hierarchical Inheritance"
      ],
      "metadata": {
        "id": "iHZZAxeb7HfR"
      }
    },
    {
      "cell_type": "code",
      "source": [
        "!apt-get install -y locales\n",
        "!locale-gen id_ID.UTF-8\n",
        "!update-locale"
      ],
      "metadata": {
        "id": "EgwtSDCTBti3",
        "outputId": "f4d76d01-d8d8-4563-b857-73fb52a11f2d",
        "colab": {
          "base_uri": "https://localhost:8080/"
        }
      },
      "execution_count": null,
      "outputs": [
        {
          "output_type": "stream",
          "name": "stdout",
          "text": [
            "Reading package lists... Done\n",
            "Building dependency tree... Done\n",
            "Reading state information... Done\n",
            "locales is already the newest version (2.35-0ubuntu3.9).\n",
            "0 upgraded, 0 newly installed, 0 to remove and 34 not upgraded.\n",
            "Generating locales (this might take a while)...\n",
            "  id_ID.UTF-8... done\n",
            "Generation complete.\n"
          ]
        }
      ]
    },
    {
      "cell_type": "code",
      "source": [
        "import locale\n",
        "\n",
        "try:\n",
        "  locale.setlocale(locale.LC_ALL, 'id_ID.UTF-8')\n",
        "except locale.Error:\n",
        "  print(\"Locale id_ID.UTF-8 tidak tersedia, menggunakan locale default.\")\n",
        "\n",
        "# Fungsi helper untuk format mata uang\n",
        "def format_rupiah(angka):\n",
        "  return locale.currency(angka, grouping=True, symbol='Rp ')\n",
        "\n",
        "# Kelas Induk\n",
        "class Pegawai:\n",
        "  def __init__(self, nama, id_pegawai, gaji_pokok):\n",
        "    self.nama = nama\n",
        "    self.id_pegawai = id_pegawai\n",
        "    self.gaji_pokok = gaji_pokok\n",
        "\n",
        "  def hitung_gaji(self):\n",
        "    return self.gaji_pokok # Gaji dasar, bisa di-override\n",
        "\n",
        "  def tampilkan_info(self):\n",
        "    print(f\"ID: {self.id_pegawai}, nama: {self.nama}\")\n",
        "    print(f\"Gaji pokok: {format_rupiah(self.gaji_pokok)}\")\n",
        "\n",
        "# Kelas Anak 1\n",
        "class Manager(Pegawai):\n",
        "  def __init__(self, nama, id_pegawai, gaji_pokok, tunjangan_jabatan):\n",
        "    super().__init__(nama, id_pegawai, gaji_pokok)\n",
        "    self.tunjangan_jabatan = tunjangan_jabatan\n",
        "\n",
        "  def hitung_gaji(self):\n",
        "    gaji_total = super().hitung_gaji() + self.tunjangan_jabatan\n",
        "    return gaji_total\n",
        "\n",
        "  def tampilkan_info(self):\n",
        "    print(\"---Info Manager---\")\n",
        "    super().tampilkan_info()\n",
        "    print(f\"Tunjangan Jabatan: {format_rupiah(self.tunjangan_jabatan)}\")\n",
        "    print(f\"Total Gaji: {format_rupiah(self.hitung_gaji())}\")\n",
        "\n",
        "# Kelas Anak 2\n",
        "class StaffTeknis(Pegawai):\n",
        "  def __init__(self, nama, id_pegawai, gaji_pokok, keahlian, bonus_keahlian):\n",
        "    super().__init__(nama, id_pegawai, gaji_pokok)\n",
        "    self.keahlian = keahlian\n",
        "    self.bonus_keahlian = bonus_keahlian\n",
        "\n",
        "  def hitung_gaji(self):\n",
        "    gaji_total = super().hitung_gaji() + self.bonus_keahlian\n",
        "    return gaji_total\n",
        "\n",
        "  def tampilkan_info(self):\n",
        "    print(\"---Info Staff Teknis---\")\n",
        "    super().tampilkan_info()\n",
        "    print(f\"Keahlian: {self.keahlian}\")\n",
        "    print(f\"Bonus keahlian: {format_rupiah(self.bonus_keahlian)}\")\n",
        "    print(f\"Total gaji: {format_rupiah(self.hitung_gaji())}\")\n",
        "\n",
        "# KODE UTAMA\n",
        "if __name__ == \"__main__\":\n",
        "  manager1 = Manager(\"Septia Isnaeni Salsabila\", \"M001\", 10000000, 5000000)\n",
        "  staf1 = StaffTeknis(\"Citra Lestari\", \"s001\", 7000000, \"Python Programming\", 1500000)\n",
        "  pegawai_baru = Pegawai(\"Rian\", \"P001\", 5000000)\n",
        "\n",
        "  print(\"Menampilkan Informasi Pegawai:\")\n",
        "  manager1.tampilkan_info()\n",
        "  print(\"-\" * 30)\n",
        "  staf1.tampilkan_info()\n",
        "  print(\"-\" * 30)\n",
        "\n",
        "  print(\"---Info Pegawai Baru---\")\n",
        "  pegawai_baru.tampilkan_info()\n",
        "  print(f\"Total gaji: {format_rupiah(pegawai_baru.hitung_gaji())}\")\n",
        "  print(\"-\" * 30)"
      ],
      "metadata": {
        "id": "f-t1ruEh7Ovh",
        "outputId": "13e4b275-bf48-43fe-9366-32a163003a50",
        "colab": {
          "base_uri": "https://localhost:8080/"
        }
      },
      "execution_count": null,
      "outputs": [
        {
          "output_type": "stream",
          "name": "stdout",
          "text": [
            "Menampilkan Informasi Pegawai:\n",
            "---Info Manager---\n",
            "ID: M001, nama: Septia Isnaeni Salsabila\n",
            "Gaji pokok: Rp10.000.000,00\n",
            "Tunjangan Jabatan: Rp5.000.000,00\n",
            "Total Gaji: Rp15.000.000,00\n",
            "------------------------------\n",
            "---Info Staff Teknis---\n",
            "ID: s001, nama: Citra Lestari\n",
            "Gaji pokok: Rp7.000.000,00\n",
            "Keahlian: Python Programming\n",
            "Bonus keahlian: Rp1.500.000,00\n",
            "Total gaji: Rp8.500.000,00\n",
            "------------------------------\n",
            "---Info Pegawai Baru---\n",
            "ID: P001, nama: Rian\n",
            "Gaji pokok: Rp5.000.000,00\n",
            "Total gaji: Rp5.000.000,00\n",
            "------------------------------\n"
          ]
        }
      ]
    },
    {
      "cell_type": "markdown",
      "source": [
        "## Praktikum 06: Memeriksa Tipe Instance dengan instance()\n"
      ],
      "metadata": {
        "id": "a6h4cEG5CSb6"
      }
    },
    {
      "cell_type": "code",
      "source": [
        "class BentukGeometri:\n",
        "  def __init__(self, nama_bentuk):\n",
        "    self.nama = nama_bentuk\n",
        "\n",
        "  def tampilkan_nama(self):\n",
        "    print(f\"Ini adalah bentuk: {self.nama}\")\n",
        "\n",
        "  def hitung_luas(self):\n",
        "    print(f\"Luas {self.nama} tifak dapat dihitung (generik).\")\n",
        "\n",
        "class PersegiPanjang(BentukGeometri):\n",
        "  def __init__(self, panjang, lebar):\n",
        "    super().__init__(\"Persegi Panjang\")\n",
        "    self.panjang = panjang\n",
        "    self.lebar = lebar\n",
        "\n",
        "  def hitung_luas(self):\n",
        "    Luas = self.panjang * self.lebar\n",
        "    print(f\"Luas {self.nama}: {Luas}\")\n",
        "\n",
        "class Segitiga(BentukGeometri):\n",
        "  def __init__(self, alas, tinggi):\n",
        "    super().__init__(\"Segitiga\")\n",
        "    self.alas = alas\n",
        "    self.tinggi = tinggi\n",
        "\n",
        "  def hitung_luas(self):\n",
        "    Luas = 0.5 * self.alas * self.tinggi\n",
        "    print(f\"Luas {self.nama}: {Luas}\")\n",
        "\n",
        "def proses_bentuk(bentuk):\n",
        "  print(f\"\\nMemproses objek: {type (bentuk)}\")\n",
        "\n",
        "  if isinstance(bentuk, BentukGeometri):\n",
        "    bentuk.tampilkan_nama()\n",
        "    print(\"Objek ini adalah instance dari Bentuk Geometri (atau turunannya).\")\n",
        "    if isinstance(bentuk, PersegiPanjang):\n",
        "      print(\"-> Objek ini juga instance dari Persegi Panjang.\")\n",
        "    elif isinstance(bentuk, Segitiga):\n",
        "      print(\"-> Objek ini juga instance dari Segitiga.\")\n",
        "\n",
        "  else:\n",
        "    print(\"Objek ini BUKAN instance dari Bentuk Geometr.\")\n",
        "\n",
        "  if isinstance(bentuk, str):\n",
        "    print(\"Objek ini adalah string.\")\n",
        "\n",
        "# KODE UTAMA\n",
        "if __name__ == \"__main__\":\n",
        "  pp = PersegiPanjang(4, 3)\n",
        "  seg = Segitiga(5, 2)\n",
        "  bg = BentukGeometri(\"Lingkaran\")\n",
        "  teks = \"Ini string\"\n",
        "\n",
        "  daftar_objek = [pp, seg, bg, teks]\n",
        "\n",
        "  for obj in daftar_objek:\n",
        "    proses_bentuk(obj)\n"
      ],
      "metadata": {
        "id": "65hMm_2MCaTR",
        "outputId": "e227c0f2-947f-4cda-f7d1-aa637d46040c",
        "colab": {
          "base_uri": "https://localhost:8080/"
        }
      },
      "execution_count": 23,
      "outputs": [
        {
          "output_type": "stream",
          "name": "stdout",
          "text": [
            "\n",
            "Memproses objek: <class '__main__.PersegiPanjang'>\n",
            "Ini adalah bentuk: Persegi Panjang\n",
            "Objek ini adalah instance dari Bentuk Geometri (atau turunannya).\n",
            "-> Objek ini juga instance dari Persegi Panjang.\n",
            "\n",
            "Memproses objek: <class '__main__.Segitiga'>\n",
            "Ini adalah bentuk: Segitiga\n",
            "Objek ini adalah instance dari Bentuk Geometri (atau turunannya).\n",
            "-> Objek ini juga instance dari Segitiga.\n",
            "\n",
            "Memproses objek: <class '__main__.BentukGeometri'>\n",
            "Ini adalah bentuk: Lingkaran\n",
            "Objek ini adalah instance dari Bentuk Geometri (atau turunannya).\n",
            "\n",
            "Memproses objek: <class 'str'>\n",
            "Objek ini BUKAN instance dari Bentuk Geometr.\n",
            "Objek ini adalah string.\n"
          ]
        }
      ]
    },
    {
      "cell_type": "markdown",
      "source": [
        "# PENUGASAN"
      ],
      "metadata": {
        "id": "gcMrKdoCo9YL"
      }
    },
    {
      "cell_type": "code",
      "source": [
        "class Mahasiswa: # INDUK\n",
        "  def __init__(self, nama, nim, ipk, coba):\n",
        "    self.nama = nama\n",
        "    self.nim = nim\n",
        "    self.ipk = ipk\n",
        "    self.coba = coba\n",
        "\n",
        "  def hitung_predikat(self):\n",
        "    if self.ipk > 3.5:\n",
        "      return \"Dengan Predikat Pujian\"\n",
        "    elif self.ipk > 3.0:\n",
        "      return \"Sangat Memuaskan\"\n",
        "    elif self.ipk > 2.75:\n",
        "      return \"Memuaskan\"\n",
        "    else:\n",
        "      return \"Cukup\"\n",
        "\n",
        "  def tampilkan_info(self):\n",
        "    print(f\"Nama Mahasiswa: {self.nama}\")\n",
        "    print(f\"NIM Mahasiwa: {self.nim}\")\n",
        "    print(f\"IPK Mahasiswa: {self.ipk} [{self.hitung_predikat()}]\")\n",
        "    print(f\"Coba: {self.coba}\")\n",
        "\n",
        "def main():\n",
        "  mh01 = Mahasiswa(\"Septia\", 43324125, 3.6, 1)\n",
        "\n",
        "  mh01.tampilkan_info()\n",
        "\n",
        "if __name__ == \"__main__\":\n",
        "  main()\n"
      ],
      "metadata": {
        "id": "amIgqH3h1J6o",
        "outputId": "cad1b004-7bb5-4132-9472-7deb5231b271",
        "colab": {
          "base_uri": "https://localhost:8080/"
        }
      },
      "execution_count": 21,
      "outputs": [
        {
          "output_type": "stream",
          "name": "stdout",
          "text": [
            "Nama Mahasiswa: Septia\n",
            "NIM Mahasiwa: 43324125\n",
            "IPK Mahasiswa: 3.6 [Dengan Predikat Pujian]\n",
            "Coba: 1\n"
          ]
        }
      ]
    },
    {
      "cell_type": "code",
      "source": [],
      "metadata": {
        "id": "ITfdEUnQ01OU"
      },
      "execution_count": null,
      "outputs": []
    }
  ]
}