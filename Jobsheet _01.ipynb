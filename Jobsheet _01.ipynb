{
  "nbformat": 4,
  "nbformat_minor": 0,
  "metadata": {
    "colab": {
      "provenance": [],
      "toc_visible": true,
      "authorship_tag": "ABX9TyP8r8a0qj6yTpE9gHYmhibn",
      "include_colab_link": true
    },
    "kernelspec": {
      "name": "python3",
      "display_name": "Python 3"
    },
    "language_info": {
      "name": "python"
    }
  },
  "cells": [
    {
      "cell_type": "markdown",
      "metadata": {
        "id": "view-in-github",
        "colab_type": "text"
      },
      "source": [
        "<a href=\"https://colab.research.google.com/github/luzyi0/2025_PBO_TI1B/blob/main/Jobsheet%20_01.ipynb\" target=\"_parent\"><img src=\"https://colab.research.google.com/assets/colab-badge.svg\" alt=\"Open In Colab\"/></a>"
      ]
    },
    {
      "cell_type": "markdown",
      "source": [
        "# Jobsheet 01: Dasar Pemrograman Bahasa Python"
      ],
      "metadata": {
        "id": "0pHxQu27pTJ1"
      }
    },
    {
      "cell_type": "markdown",
      "source": [
        "## Praktikum 01"
      ],
      "metadata": {
        "id": "W8Ng-mU0pwac"
      }
    },
    {
      "cell_type": "code",
      "execution_count": 2,
      "metadata": {
        "colab": {
          "base_uri": "https://localhost:8080/"
        },
        "id": "h5VDH1W0mZeu",
        "outputId": "6efe8791-d146-4cc9-9acd-3e811c403490"
      },
      "outputs": [
        {
          "output_type": "stream",
          "name": "stdout",
          "text": [
            "10\n"
          ]
        }
      ],
      "source": [
        "angka_int = 10\n",
        "print(angka_int)"
      ]
    },
    {
      "cell_type": "markdown",
      "source": [],
      "metadata": {
        "id": "UKDuOb_kpRM3"
      }
    }
  ]
}