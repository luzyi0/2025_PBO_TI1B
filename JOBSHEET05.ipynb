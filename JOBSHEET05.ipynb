{
  "nbformat": 4,
  "nbformat_minor": 0,
  "metadata": {
    "colab": {
      "provenance": [],
      "authorship_tag": "ABX9TyO8A3E3IvFz8rOpzlxGUKku",
      "include_colab_link": true
    },
    "kernelspec": {
      "name": "python3",
      "display_name": "Python 3"
    },
    "language_info": {
      "name": "python"
    }
  },
  "cells": [
    {
      "cell_type": "markdown",
      "metadata": {
        "id": "view-in-github",
        "colab_type": "text"
      },
      "source": [
        "<a href=\"https://colab.research.google.com/github/luzyi0/2025_PBO_TI1B/blob/main/JOBSHEET05.ipynb\" target=\"_parent\"><img src=\"https://colab.research.google.com/assets/colab-badge.svg\" alt=\"Open In Colab\"/></a>"
      ]
    },
    {
      "cell_type": "markdown",
      "source": [
        "# Praktikum 01: Polimorfisme dengan Inheritance dan Overriding"
      ],
      "metadata": {
        "id": "YkpnyLkqkDzm"
      }
    },
    {
      "cell_type": "markdown",
      "source": [
        "# Praktikum 02: Polimorfisme dengan Duck Typing"
      ],
      "metadata": {
        "id": "LPI3uO8rkY0w"
      }
    },
    {
      "cell_type": "markdown",
      "source": [
        "# Praktikum 03: Simulasi Overloading dalam Metode Kelas dengan *args"
      ],
      "metadata": {
        "id": "VSah-ct0kdC9"
      }
    },
    {
      "cell_type": "markdown",
      "source": [
        "# Praktikum 04: Simulasi Overloading dalam Metode Kelas dengan *args dan **kwargs"
      ],
      "metadata": {
        "id": "ccBnkFCcklSs"
      }
    },
    {
      "cell_type": "markdown",
      "source": [
        "# Praktikum 05: Kombinasi Polimorfisme (Inherintance & DDuck Typing)"
      ],
      "metadata": {
        "id": "gxNpyWD7kwwS"
      }
    },
    {
      "cell_type": "markdown",
      "source": [
        "# Praktikum 06: Kontrol Perilaku Polimorfik dengan isinstance"
      ],
      "metadata": {
        "id": "AcHDPfOGk7fd"
      }
    },
    {
      "cell_type": "markdown",
      "source": [
        "# Penugasan"
      ],
      "metadata": {
        "id": "yXAnaxrJlH7P"
      }
    },
    {
      "cell_type": "code",
      "execution_count": null,
      "metadata": {
        "id": "QvrYoy_5injq"
      },
      "outputs": [],
      "source": []
    }
  ]
}