{
  "nbformat": 4,
  "nbformat_minor": 0,
  "metadata": {
    "colab": {
      "provenance": [],
      "authorship_tag": "ABX9TyMoC96PLVrI9snyWUUACwWO",
      "include_colab_link": true
    },
    "kernelspec": {
      "name": "python3",
      "display_name": "Python 3"
    },
    "language_info": {
      "name": "python"
    }
  },
  "cells": [
    {
      "cell_type": "markdown",
      "metadata": {
        "id": "view-in-github",
        "colab_type": "text"
      },
      "source": [
        "<a href=\"https://colab.research.google.com/github/luzyi0/2025_PBO_TI1B/blob/main/JOBSHEET05.ipynb\" target=\"_parent\"><img src=\"https://colab.research.google.com/assets/colab-badge.svg\" alt=\"Open In Colab\"/></a>"
      ]
    },
    {
      "cell_type": "markdown",
      "source": [
        "# Praktikum 01: Polimorfisme dengan Inheritance dan Overriding"
      ],
      "metadata": {
        "id": "YkpnyLkqkDzm"
      }
    },
    {
      "cell_type": "code",
      "source": [
        "# INDUK\n",
        "class Burung:\n",
        "  def __init__(self, nama):\n",
        "    self.nama = nama\n",
        "\n",
        "  def terbang(self):\n",
        "    print(f\"{self.nama} terbang dengan cara umum.\")\n",
        "\n",
        "  def bersuara(self):\n",
        "    print(f\"{self.nama} mengeluarkan suara burung.\")\n",
        "\n",
        "# Kelas Anak 1\n",
        "class Elang(Burung):\n",
        "  def __init__(self, nama, rentang_sayap):\n",
        "    super().__init__(nama)\n",
        "    self.rentang_sayap = rentang_sayap\n",
        "\n",
        "  def terbang(self):\n",
        "    print(f\"{self.nama} terbang melayang di angkasa.\")\n",
        "\n",
        "  def bersuara(self):\n",
        "    print(f\"{self.nama} berteriak nyaring.\")\n",
        "\n",
        "# Kelas Anak 2\n",
        "class Pipit(Burung):\n",
        "  def __init__(self, nama, warna_bulu):\n",
        "    super().__init__(nama)\n",
        "    self.warna_bulu = warna_bulu\n",
        "\n",
        "  def terbang(self):\n",
        "    print(f\"{self.nama} terbang cepat di antara pepohonan.\")\n",
        "\n",
        "  def bersuara(self):\n",
        "    print(f\"{self.nama} berkicau merdu: Cit cit!.\")\n",
        "\n",
        "# Fungsi yang memanfaatkan polimorfisme\n",
        "def demonstrasi_aksi_burung(daftar_burung):\n",
        "  print(\"\\nAksi Burung:\")\n",
        "  for burung in daftar_burung:\n",
        "    print(f\"--Aksi untuk {burung.nama}--\")\n",
        "    # Panggila metode yang sama, tapi perilaku berbeda tergantung objek\n",
        "    burung.terbang()\n",
        "    burung.bersuara()\n",
        "    print(\"-\" * 15)\n",
        "\n",
        "# Kode Utama\n",
        "if __name__ == \"__main__\":\n",
        "  elang_jawa = Elang(\"Elang Jawa\", 1.5)\n",
        "  pipit_gereja = Pipit(\"Pipit Gereja\", \"coklat\")\n",
        "  burung_aneh = Burung(\"Burung Misterius\") # Objek dari kelas induk\n",
        "\n",
        "  koleksi_burung = [elang_jawa, pipit_gereja, burung_aneh]\n",
        "\n",
        "  demonstrasi_aksi_burung(koleksi_burung)\n",
        "\n",
        "  daftar_burung = [elang_jawa, pipit_gereja]\n",
        "  demonstrasi_aksi_burung(daftar_burung)"
      ],
      "metadata": {
        "id": "658myjeIwanA",
        "outputId": "0a94e854-363c-41fb-b1bb-f57494407f1f",
        "colab": {
          "base_uri": "https://localhost:8080/"
        }
      },
      "execution_count": 4,
      "outputs": [
        {
          "output_type": "stream",
          "name": "stdout",
          "text": [
            "\n",
            "Aksi Burung:\n",
            "--Aksi untuk Elang Jawa--\n",
            "Elang Jawa terbang melayang di angkasa.\n",
            "Elang Jawa berteriak nyaring.\n",
            "---------------\n",
            "--Aksi untuk Pipit Gereja--\n",
            "Pipit Gereja terbang cepat di antara pepohonan.\n",
            "Pipit Gereja berkicau merdu: Cit cit!.\n",
            "---------------\n",
            "--Aksi untuk Burung Misterius--\n",
            "Burung Misterius terbang dengan cara umum.\n",
            "Burung Misterius mengeluarkan suara burung.\n",
            "---------------\n",
            "\n",
            "Aksi Burung:\n",
            "--Aksi untuk Elang Jawa--\n",
            "Elang Jawa terbang melayang di angkasa.\n",
            "Elang Jawa berteriak nyaring.\n",
            "---------------\n",
            "--Aksi untuk Pipit Gereja--\n",
            "Pipit Gereja terbang cepat di antara pepohonan.\n",
            "Pipit Gereja berkicau merdu: Cit cit!.\n",
            "---------------\n"
          ]
        }
      ]
    },
    {
      "cell_type": "markdown",
      "source": [
        "# Praktikum 02: Polimorfisme dengan Duck Typing"
      ],
      "metadata": {
        "id": "LPI3uO8rkY0w"
      }
    },
    {
      "cell_type": "code",
      "source": [
        "class Kucing:\n",
        "  def bersuara(self):\n",
        "    print(\"Kucing: Meow!\")\n",
        "\n",
        "class Anjing:\n",
        "  def bersuara(self):\n",
        "    print(\"Anjing: Guk guk!\")\n",
        "\n",
        "class Bebek:\n",
        "  def bersuara(self):\n",
        "    print(\"Bebek: Kweek Kweek!\")\n",
        "\n",
        "class Mobil: # Kelas ini TIDAK punya metode bersuara()\n",
        "  def jalankan(self):\n",
        "    print(\"Mobil: Brummm!\")\n",
        "\n",
        "# Fungsi ini tidak peduli tipe objeknya\n",
        "# Asal punya metode .bersuara()\n",
        "def buat_suara(objek_yang_bisa_bersuara):\n",
        "  try:\n",
        "    # Memanggil metode 'bersuara' jika ada\n",
        "    objek_yang_bisa_bersuara.bersuara()\n",
        "  except AttributeError:\n",
        "    print(f\"objek {type(objek_yang_bisa_bersuara).__name__} tidak bisa bersuara.\")\n",
        "\n",
        "# --- Kode Utama---\n",
        "if __name__ == \"__main__\":\n",
        "  kucing1 = Kucing()\n",
        "  anjing1 = Anjing()\n",
        "  bebek1 = Bebek()\n",
        "  mobil1 = Mobil()\n",
        "\n",
        "  daftar_objek = [kucing1, anjing1, bebek1, mobil1]\n",
        "  print(\"Demostrasi Duck Typing:\")\n",
        "  for item in daftar_objek:\n",
        "    buat_suara(item) # Fungsi polimorfik via duck typing"
      ],
      "metadata": {
        "id": "RXp4gxduqoR7",
        "outputId": "61ec5629-8dfd-4a91-9405-48e40b1e0b69",
        "colab": {
          "base_uri": "https://localhost:8080/"
        }
      },
      "execution_count": 3,
      "outputs": [
        {
          "output_type": "stream",
          "name": "stdout",
          "text": [
            "Demostrasi Duck Typing:\n",
            "Kucing: Meow!\n",
            "Anjing: Guk guk!\n",
            "Bebek: Kweek Kweek!\n",
            "objek Mobil tidak bisa bersuara.\n"
          ]
        }
      ]
    },
    {
      "cell_type": "markdown",
      "source": [
        "# Praktikum 03: Simulasi Overloading dalam Metode Kelas dengan *args"
      ],
      "metadata": {
        "id": "VSah-ct0kdC9"
      }
    },
    {
      "cell_type": "code",
      "source": [
        "class KalkulatorSederhana:\n",
        "  def __init__(self, nama=\"Kalkulator\"):\n",
        "    self.nama = nama\n",
        "    print(f\"{self.nama} siap digunakan.\")\n",
        "\n",
        "  def tambah(self, *args):\n",
        "    \"\"\"\n",
        "    Metode ini menjumlahkan semua argumen angka yang diberikan. Menerima sejumlah argumen posisi menggunakan *args.\n",
        "    \"\"\"\n",
        "    print(f\"\\nMemanggil metode tambah dengan argumen: {args}\")\n",
        "    if not args:\n",
        "      print(\"Tidak ada angka untuk dijumlahkan.\")\n",
        "      return 0 # Atau bisa juga None atau raise error\n",
        "    total = 0\n",
        "    valid_input = True\n",
        "    for angka in args:\n",
        "      # melakukkan pengecekan tipe sederhana\n",
        "      if isinstance()"
      ],
      "metadata": {
        "id": "Xg0gDai1yV6d"
      },
      "execution_count": null,
      "outputs": []
    },
    {
      "cell_type": "markdown",
      "source": [
        "# Praktikum 04: Simulasi Overloading dalam Metode Kelas dengan *args dan **kwargs"
      ],
      "metadata": {
        "id": "ccBnkFCcklSs"
      }
    },
    {
      "cell_type": "code",
      "source": [
        "class DataProcessor:\n",
        "  def __init__(self, processor_id):\n",
        "    self.processor_id = processor_id\n",
        "    print(f\"Data Processor {self.processor_id} siap.\")\n",
        "\n",
        "  def process(self, *args, **kwargs):\n",
        "    \"\"\"\n",
        "    Metode ini memproses data dengan argumen posisi (*args) dan kata kunci (*kwargs) yang jumlahnya variabel.\n",
        "    \"\"\"\n",
        "    print(f\"\\n--- {self.processor_id} memproses data ---\")\n",
        "    # Memproses argumen posisi (*args) -> tuple\n",
        "    if args:\n",
        "      print(\"Argumen Posisi Diterima:\")\n",
        "      for i, arg in enumerate(args):\n",
        "        print(f\"args[{i}]: {arg} (tipe: {type(arg).__name__})\")\n",
        "    else:\n",
        "      print(\"Tidak ada argumen posisi.\")\n",
        "\n",
        "    # Memproses argumen kata kunci (**kwargs -> dict)\n",
        "    if kwargs:\n",
        "      print(\"\\nArgumen Kata Kunci Diterima:\")\n",
        "      for kunci, nilai in kwargs.items():\n",
        "        print(f\"{kunci}: {nilai} (tipe: {type(nilai).__name__})\")\n",
        "    else:\n",
        "      print(\"Tidak ada argumen kata kunci.\")\n",
        "    print(\"-------------------------------\")\n",
        "\n",
        "# Kode Utama\n",
        "if __name__ == \"__main__\":\n",
        "  # Membuat instance dari kelas\n",
        "  processor1 = DataProcessor(\"DP-001\")\n",
        "\n",
        "  # Memanggil metode 'process' dengan berbagai cara\n",
        "  print(\"\\nPanggilan 1: Tanpa argumen tambahan\")\n",
        "  processor1.process()\n",
        "\n",
        "  print(\"\\nPanggilan 2: Dengan argumen posisi\")\n",
        "  processor1.process(100, \"Status OK\", 99.9, False)\n",
        "\n",
        "  print(\"\\nPanggilan 3: Dengan argumen kata kunci\")\n",
        "  processor1.process(user=\"admin\", level=5, mode=\"verbose\")\n",
        "\n",
        "  print(\"\\nPanggilan 4: Kombinasi argumen posisi dan kata kunci\")\n",
        "  processor1.process(\"Task-A\", \"Task-B\", status=\"Running\", priority=\"High\", thread_id=54321)\n",
        "\n",
        "  # Panggilan dengan list dan dictionary sebagai argumen posisi\n",
        "  print(\"\\nPanggilan 5: Argumen posisi kompleks\")\n",
        "  list_ids = [\"Al\", \"B2\", \"C3\"]\n",
        "  dict_params = {\"timeout\": 30, \"retry\": 3}\n",
        "  processor1.process(list_ids, dict_params, owner=\"system\", enabled=True)"
      ],
      "metadata": {
        "id": "jw13ziOTDmWr",
        "outputId": "3448bf02-f106-4336-b49b-a45cfee7d4d9",
        "colab": {
          "base_uri": "https://localhost:8080/"
        }
      },
      "execution_count": 5,
      "outputs": [
        {
          "output_type": "stream",
          "name": "stdout",
          "text": [
            "Data Processor DP-001 siap.\n",
            "\n",
            "Panggilan 1: Tanpa argumen tambahan\n",
            "\n",
            "--- DP-001 memproses data ---\n",
            "Tidak ada argumen posisi.\n",
            "Tidak ada argumen kata kunci.\n",
            "-------------------------------\n",
            "\n",
            "Panggilan 2: Dengan argumen posisi\n",
            "\n",
            "--- DP-001 memproses data ---\n",
            "Argumen Posisi Diterima:\n",
            "args[0]: 100 (tipe: int)\n",
            "args[1]: Status OK (tipe: str)\n",
            "args[2]: 99.9 (tipe: float)\n",
            "args[3]: False (tipe: bool)\n",
            "Tidak ada argumen kata kunci.\n",
            "-------------------------------\n",
            "\n",
            "Panggilan 3: Dengan argumen kata kunci\n",
            "\n",
            "--- DP-001 memproses data ---\n",
            "Tidak ada argumen posisi.\n",
            "\n",
            "Argumen Kata Kunci Diterima:\n",
            "user: admin (tipe: str)\n",
            "level: 5 (tipe: int)\n",
            "mode: verbose (tipe: str)\n",
            "-------------------------------\n",
            "\n",
            "Panggilan 4: Kombinasi argumen posisi dan kata kunci\n",
            "\n",
            "--- DP-001 memproses data ---\n",
            "Argumen Posisi Diterima:\n",
            "args[0]: Task-A (tipe: str)\n",
            "args[1]: Task-B (tipe: str)\n",
            "\n",
            "Argumen Kata Kunci Diterima:\n",
            "status: Running (tipe: str)\n",
            "priority: High (tipe: str)\n",
            "thread_id: 54321 (tipe: int)\n",
            "-------------------------------\n",
            "\n",
            "Panggilan 5: Argumen posisi kompleks\n",
            "\n",
            "--- DP-001 memproses data ---\n",
            "Argumen Posisi Diterima:\n",
            "args[0]: ['Al', 'B2', 'C3'] (tipe: list)\n",
            "args[1]: {'timeout': 30, 'retry': 3} (tipe: dict)\n",
            "\n",
            "Argumen Kata Kunci Diterima:\n",
            "owner: system (tipe: str)\n",
            "enabled: True (tipe: bool)\n",
            "-------------------------------\n"
          ]
        }
      ]
    },
    {
      "cell_type": "markdown",
      "source": [
        "# Praktikum 05: Kombinasi Polimorfisme (Inherintance & DDuck Typing)"
      ],
      "metadata": {
        "id": "gxNpyWD7kwwS"
      }
    },
    {
      "cell_type": "code",
      "source": [],
      "metadata": {
        "id": "KWoTw1uvH2B0"
      },
      "execution_count": null,
      "outputs": []
    },
    {
      "cell_type": "markdown",
      "source": [
        "# Praktikum 06: Kontrol Perilaku Polimorfik dengan isinstance"
      ],
      "metadata": {
        "id": "AcHDPfOGk7fd"
      }
    },
    {
      "cell_type": "markdown",
      "source": [
        "# Penugasan"
      ],
      "metadata": {
        "id": "yXAnaxrJlH7P"
      }
    },
    {
      "cell_type": "code",
      "execution_count": null,
      "metadata": {
        "id": "QvrYoy_5injq"
      },
      "outputs": [],
      "source": []
    }
  ]
}