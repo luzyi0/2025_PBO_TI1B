{
  "nbformat": 4,
  "nbformat_minor": 0,
  "metadata": {
    "colab": {
      "provenance": [],
      "toc_visible": true,
      "authorship_tag": "ABX9TyNbcSwJvw2Or1jloDMk5ogP",
      "include_colab_link": true
    },
    "kernelspec": {
      "name": "python3",
      "display_name": "Python 3"
    },
    "language_info": {
      "name": "python"
    }
  },
  "cells": [
    {
      "cell_type": "markdown",
      "metadata": {
        "id": "view-in-github",
        "colab_type": "text"
      },
      "source": [
        "<a href=\"https://colab.research.google.com/github/luzyi0/2025_PBO_TI1B/blob/main/JOBSHEET03.ipynb\" target=\"_parent\"><img src=\"https://colab.research.google.com/assets/colab-badge.svg\" alt=\"Open In Colab\"/></a>"
      ]
    },
    {
      "cell_type": "markdown",
      "source": [
        "# JOBSHEET03: KONSTRUKTOR, DESTRUKTOR, DAN ENKAPSULASI"
      ],
      "metadata": {
        "id": "AKWsTwwduQuu"
      }
    },
    {
      "cell_type": "markdown",
      "source": [
        "##Praktikum 01: Enkapsulasi pada kelas Bank Account"
      ],
      "metadata": {
        "id": "91pYLHgxv_nu"
      }
    },
    {
      "cell_type": "markdown",
      "source": [
        "Enkapsulasi adalah konsep yang bertujuan untuk “menyembunyikan” atau melindungi data (atribut) di dalam suatu objek agar tidak diakses secara langsung di luar kelas, serta menyediakan metode (fungsi) khusus untuk memanipulasi data tersebut. UML kelas diagram kelas BankAccount."
      ],
      "metadata": {
        "id": "esWd1bfOwcIb"
      }
    },
    {
      "cell_type": "code",
      "execution_count": 18,
      "metadata": {
        "id": "hF3jFHV3tdDM",
        "outputId": "6d2473c0-def0-4f05-9539-3a8d07e281de",
        "colab": {
          "base_uri": "https://localhost:8080/"
        }
      },
      "outputs": [
        {
          "output_type": "stream",
          "name": "stdout",
          "text": [
            "500 telah ditambahkan ke akun Alice.\n",
            "Jumlah deposit harus lebih dari 0.\n",
            "300 telah ditarik dari akun Alice.\n",
            "Saldo tidak mencukupi.\n",
            "Saldo terakhir di akun Alice: 1200\n"
          ]
        }
      ],
      "source": [
        "class BankAccount:\n",
        "    def __init__(self, owner, balance):\n",
        "        # Atribut dengan double underscore (__) dianggap \"private\" di Python\n",
        "        self.__owner = owner\n",
        "        self.__balance = balance\n",
        "\n",
        "    def deposit(self, amount):\n",
        "        \"\"\"Method untuk menambahkan saldo.\"\"\"\n",
        "        if amount > 0:\n",
        "            self.__balance += amount\n",
        "            print(f\"{amount} telah ditambahkan ke akun {self.__owner}.\")\n",
        "        else:\n",
        "            print(\"Jumlah deposit harus lebih dari 0.\")\n",
        "\n",
        "    def withdraw(self, amount):\n",
        "        \"\"\"Method untuk menarik saldo.\"\"\"\n",
        "        if amount <= self.__balance:\n",
        "            self.__balance -= amount\n",
        "            print(f\"{amount} telah ditarik dari akun {self.__owner}.\")\n",
        "        else:\n",
        "            print(\"Saldo tidak mencukupi.\")\n",
        "\n",
        "    def get_balance(self):\n",
        "        \"\"\"Method untuk mendapatkan informasi saldo terkini.\"\"\"\n",
        "        return self.__balance\n",
        "\n",
        "# Contoh penggunaan\n",
        "if __name__ == \"__main__\":\n",
        "    # Membuat objek BankAccount dengan owner=\"Alice\" dan balance awal 1000\n",
        "    alice_account = BankAccount(owner=\"Alice\", balance=1000)\n",
        "\n",
        "    # Deposit uang\n",
        "    alice_account.deposit(500)      # Berhasil\n",
        "    alice_account.deposit(-100)     # Gagal (validasi)\n",
        "\n",
        "    # Withdraw uang\n",
        "    alice_account.withdraw(300)     # Berhasil\n",
        "    alice_account.withdraw(2000)    # Gagal (saldo tidak cukup)\n",
        "\n",
        "    # Mendapatkan saldo\n",
        "    current_balance = alice_account.get_balance()\n",
        "    print(f\"Saldo terakhir di akun {alice_account._BankAccount__owner}: {current_balance}\")\n",
        "\n",
        "    # Mencoba mengakses atribut 'private' langsung (tidak direkomendasikan)\n",
        "    # alice_account.__balance  # Akan error\n",
        "    # Karena Python “mangling” nama atribut __balance menjadi _BankAccount__balance\n",
        "    # Ini adalah salah satu mekanisme enkapsulasi sederhana di Python.\n"
      ]
    },
    {
      "cell_type": "markdown",
      "source": [
        "## Praktikum 02: Enkapsulasi pada kelas Employee"
      ],
      "metadata": {
        "id": "aeQInqOQ0yP_"
      }
    },
    {
      "cell_type": "markdown",
      "source": [
        "Berikut ini adalah contoh lain tentang enkapsulasi dalam Python menggunakan kelas Employee yang menyembunyikan data karyawan, seperti nama dan gaji, dari akses langsung di luar kelas. Pada contoh ini, kita menyediakan method khusus (getter dan setter) untuk mengakses dan memodifikasi data privat. UML kelas diagram untuk Employee Class."
      ],
      "metadata": {
        "id": "IH14Kt_T06D_"
      }
    },
    {
      "cell_type": "code",
      "source": [
        "class Employee:\n",
        "    def __init__(self, name, salary):\n",
        "        # Atribut privat dengan double underscore\n",
        "        self.__name = name\n",
        "        self.__salary = salary\n",
        "\n",
        "    def update_salary(self, increase):\n",
        "        \"\"\"Method untuk menaikkan gaji dengan validasi.\"\"\"\n",
        "        if increase > 0:\n",
        "            self.__salary += increase\n",
        "            print(f\"Gaji telah dinaikkan sebesar {increase}.\")\n",
        "        else:\n",
        "            print(\"Nilai kenaikan harus lebih dari 0.\")\n",
        "\n",
        "    def set_salary(self, new_salary):\n",
        "        \"\"\"Method untuk mengubah gaji dengan validasi.\"\"\"\n",
        "        if new_salary >= 0:\n",
        "            self.__salary = new_salary\n",
        "            print(f\"Gaji diatur ulang menjadi {new_salary}.\")\n",
        "        else:\n",
        "            print(\"Gaji tidak dapat bernilai negatif.\")\n",
        "\n",
        "    def get_salary(self):\n",
        "        \"\"\"Method untuk mendapatkan informasi gaji.\"\"\"\n",
        "        return self.__salary\n",
        "\n",
        "    def get_employee_info(self):\n",
        "        \"\"\"Method untuk menampilkan informasi karyawan secara menyeluruh.\"\"\"\n",
        "        return f\"Employee: {self.__name}, Gaji: {self.__salary}\"\n",
        "\n",
        "# Contoh penggunaan\n",
        "if __name__ == \"__main__\":\n",
        "    # Membuat objek Employee dengan nama \"John Doe\" dan gaji awal 50000\n",
        "    employee1 = Employee(\"John Doe\", 50000)\n",
        "\n",
        "    # Tampilkan informasi karyawan\n",
        "    # Membuat objek Employee dengan nama \"John Doe\" dan gaji awal 50000\n",
        "employee1 = Employee(\"John Doe\", 50000)\n",
        "\n",
        "# Tampilkan informasi karyawan\n",
        "print(employee1.get_employee_info())\n",
        "\n",
        "# Update gaji dengan menaikkan sebesar 5000\n",
        "employee1.update_salary(5000)\n",
        "print(f\"Gaji setelah kenaikan: {employee1.get_salary()}\")\n",
        "\n",
        "# Atur ulang gaji dengan nilai baru\n",
        "employee1.set_salary(60000)\n",
        "print(f\"Informasi terbaru: {employee1.get_employee_info()}\")\n",
        "\n",
        "# Mencoba mengakses atribut privat secara langsung (tidak direkomendasikan)\n",
        "# Contoh: print(employee1.__salary)  --> Ini akan menimbulkan error\n",
        "\n"
      ],
      "metadata": {
        "id": "kVoloTVH2bEK",
        "outputId": "914fe58a-de73-4d53-cd7f-27c63ba0e6f9",
        "colab": {
          "base_uri": "https://localhost:8080/"
        }
      },
      "execution_count": null,
      "outputs": [
        {
          "output_type": "stream",
          "name": "stdout",
          "text": [
            "Employee: John Doe, Gaji: 50000\n",
            "Gaji telah dinaikkan sebesar 5000.\n",
            "Gaji setelah kenaikan: 55000\n",
            "Gaji diatur ulang menjadi 60000.\n",
            "Informasi terbaru: Employee: John Doe, Gaji: 60000\n"
          ]
        }
      ]
    },
    {
      "cell_type": "markdown",
      "source": [
        "##Praktikum 03: Konstruktor dan Destrukotor Sederhana"
      ],
      "metadata": {
        "id": "CkVC7_1o11pQ"
      }
    },
    {
      "cell_type": "markdown",
      "source": [
        "Berikut adalah contoh program sederhana yang mendemonstrasikan cara kerja konstruktor dan destruktor dalam Python:"
      ],
      "metadata": {
        "id": "xU91akJvDxIo"
      }
    },
    {
      "cell_type": "code",
      "source": [
        "class SimpleExample:\n",
        "    def __init__(self, name):\n",
        "        \"\"\"\n",
        "        Konstruktor: Dipanggil saat objek dibuat.\n",
        "        Menyimpan nilai 'name' dan mencetak pesan pembuatan objek.\n",
        "        \"\"\"\n",
        "        self.name = name\n",
        "        print(f\"Konstruktor: Objek '{self.name}' telah dibuat.\")\n",
        "\n",
        "    def __del__(self):\n",
        "        \"\"\"\n",
        "        Destruktor: Dipanggil saat objek dihapus.\n",
        "        Mencetak pesan bahwa objek sedang dihapus.\n",
        "        \"\"\"\n",
        "        print(f\"Destruktor: Objek '{self.name}' sedang dihapus.\")\n",
        "\n",
        "\n",
        "def main():\n",
        "    print(\"Program dimulai.\\n\")\n",
        "\n",
        "    # Membuat objek SimpleExample\n",
        "    obj = SimpleExample(\"Demo\")\n",
        "    print(\"Program sedang berjalan...\\n\")\n",
        "\n",
        "    # Menghapus objek secara eksplisit\n",
        "    del obj\n",
        "    print(\"Objek telah dihapus secara eksplisit.\\n\")\n",
        "\n",
        "    print(\"Program selesai.\")\n",
        "\n",
        "\n",
        "if __name__ == \"__main__\":\n",
        "    main()\n"
      ],
      "metadata": {
        "id": "Bw5qPz8n3cq5",
        "outputId": "90fea750-23d4-4dcc-a4aa-2c54d167731b",
        "colab": {
          "base_uri": "https://localhost:8080/"
        }
      },
      "execution_count": null,
      "outputs": [
        {
          "output_type": "stream",
          "name": "stdout",
          "text": [
            "Program dimulai.\n",
            "\n",
            "Konstruktor: Objek 'Demo' telah dibuat.\n",
            "Program sedang berjalan...\n",
            "\n",
            "Destruktor: Objek 'Demo' sedang dihapus.\n",
            "Objek telah dihapus secara eksplisit.\n",
            "\n",
            "Program selesai.\n"
          ]
        }
      ]
    },
    {
      "cell_type": "markdown",
      "source": [
        "##Praktikum 04: Konstruktor dan Destruktor program File Logger"
      ],
      "metadata": {
        "id": "R1tV_kAZ1-_c"
      }
    },
    {
      "cell_type": "markdown",
      "source": [
        "Berikut adalah contoh lain yang lebih nyata, yakni simulasi pengelolaan koneksi jaringan. Dalam contoh ini, kelas NetworkConnection membuat \"koneksi\" ke sebuah alamat host dan port ketika objek dibuat (menggunakan konstruktor) dan menutup koneksi tersebut ketika objek dihapus (menggunakan destruktor). Selain itu, terdapat metode untuk mengirim dan menerima data melalui koneksi tersebut."
      ],
      "metadata": {
        "id": "npFqpHLgDtcf"
      }
    },
    {
      "cell_type": "code",
      "source": [
        "class FileLogger:\n",
        "    def __init__(self, filename):\n",
        "        \"\"\"\n",
        "        Konstruktor: Membuka file log untuk menulis pesan.\n",
        "        Parameter:\n",
        "          - filename: Nama file tempat pesan log akan ditulis.\n",
        "        \"\"\"\n",
        "        self.filename = filename\n",
        "        try:\n",
        "            self.file = open(filename, \"a\")  # Membuka file dalam mode append\n",
        "            print(f\"File '{filename}' berhasil dibuka untuk logging.\")\n",
        "        except Exception as e:\n",
        "            print(f\"Gagal membuka file '{filename}': {e}\")\n",
        "\n",
        "    def write_log(self, message):\n",
        "        \"\"\"\n",
        "        Menulis pesan log ke dalam file.\n",
        "        Parameter:\n",
        "          - message: Pesan yang akan ditulis ke file.\n",
        "        \"\"\"\n",
        "        self.file.write(message + \"\\n\")\n",
        "        self.file.flush()  # Memastikan pesan langsung ditulis ke disk\n",
        "        print(f\"Pesan log: '{message}' telah ditulis.\")\n",
        "\n",
        "    def __del__(self):\n",
        "        \"\"\"\n",
        "        Destruktor: Menutup file log ketika objek dihapus.\n",
        "        \"\"\"\n",
        "        if hasattr(self, \"file\") and not self.file.closed:\n",
        "            self.file.close()\n",
        "            print(f\"File '{self.filename}' telah ditutup.\")\n",
        "\n",
        "\n",
        "# Contoh penggunaan dalam skenario nyata aplikasi\n",
        "if __name__ == \"__main__\":\n",
        "    # Membuat objek logger untuk file \"application.log\"\n",
        "    logger = FileLogger(\"application.log\")\n",
        "\n",
        "    # Menulis beberapa pesan log selama operasi aplikasi\n",
        "    logger.write_log(\"Aplikasi dimulai.\")\n",
        "    logger.write_log(\"Melakukan operasi A...\")\n",
        "    logger.write_log(\"Operasi A selesai.\")\n",
        "    logger.write_log(\"Aplikasi akan segera selesai.\")\n",
        "\n",
        "    # Menghapus objek logger secara eksplisit\n",
        "    del logger\n",
        "\n",
        "    # Jika objek tidak dihapus secara eksplisit, destruktor akan dipanggil\n",
        "    # ketika program berakhir dan garbage collection membersihkan objek tersebut.\n"
      ],
      "metadata": {
        "id": "JoFmaZjqyGNv",
        "outputId": "fb876f8d-b0e3-436e-d7f5-1b6aa1edde82",
        "colab": {
          "base_uri": "https://localhost:8080/"
        }
      },
      "execution_count": null,
      "outputs": [
        {
          "output_type": "stream",
          "name": "stdout",
          "text": [
            "File 'application.log' berhasil dibuka untuk logging.\n",
            "Pesan log: 'Aplikasi dimulai.' telah ditulis.\n",
            "Pesan log: 'Melakukan operasi A...' telah ditulis.\n",
            "Pesan log: 'Operasi A selesai.' telah ditulis.\n",
            "Pesan log: 'Aplikasi akan segera selesai.' telah ditulis.\n",
            "File 'application.log' telah ditutup.\n"
          ]
        }
      ]
    },
    {
      "cell_type": "markdown",
      "source": [
        "##Praktikum 05: Properti \"self\" pada kelas"
      ],
      "metadata": {
        "id": "-_-sNvRv3_ra"
      }
    },
    {
      "cell_type": "markdown",
      "source": [
        "Berikut adalah contoh kode Python yang mendemonstrasikan peran dari self dalam metode sebuah kelas. Kode ini menjelaskan bagaimana self digunakan untuk merujuk ke atribut dan metode instance, sehingga setiap objek (instance) memiliki data dan perilaku yang independen. Diagram UML Kelas Calculator sebagai berikut:"
      ],
      "metadata": {
        "id": "co8gXH7zCSv4"
      }
    },
    {
      "cell_type": "code",
      "source": [
        "class Calculator:\n",
        "    def __init__(self, initial_value=0):\n",
        "        \"\"\"\n",
        "        Konstruktor kelas Calculator.\n",
        "        - self: Mengacu pada instance yang dibuat.\n",
        "        - initial_value: Nilai awal dari kalkulator.\n",
        "        \"\"\"\n",
        "        self.value = initial_value\n",
        "        print(f\"Kalkulator diinisialisasi dengan nilai: {self.value}\")\n",
        "\n",
        "    def add(self, number):\n",
        "        \"\"\"\n",
        "        Menambahkan 'number' ke nilai yang tersimpan di objek.\n",
        "        - self.value: Menunjukkan nilai saat ini yang disimpan di objek tersebut.\n",
        "        - number: Nilai yang akan ditambahkan.\n",
        "        \"\"\"\n",
        "        self.value += number\n",
        "        print(f\"Setelah penambahan {number}, nilai sekarang adalah: {self.value}\")\n",
        "\n",
        "    def subtract(self, number):\n",
        "        \"\"\"\n",
        "        Mengurangi 'number' dari nilai yang tersimpan.\n",
        "        - self.value: Nilai saat ini dalam objek.\n",
        "        - number: Nilai yang akan dikurangkan.\n",
        "        \"\"\"\n",
        "        self.value -= number\n",
        "        print(f\"Setelah pengurangan {number}, nilai sekarang adalah: {self.value}\")\n",
        "\n",
        "    def reset(self):\n",
        "        \"\"\"\n",
        "        Mengatur ulang nilai kalkulator ke 0.\n",
        "        \"\"\"\n",
        "        self.value = 0\n",
        "        print(\"Nilai telah direset ke 0.\")\n",
        "\n",
        "    def show_value(self):\n",
        "        \"\"\"\n",
        "        Menampilkan nilai saat ini dari kalkulator.\n",
        "        \"\"\"\n",
        "        print(f\"Nilai saat ini adalah: {self.value}\")\n",
        "\n",
        "\n",
        "# Contoh penggunaan untuk memahami peran 'self'\n",
        "def main():\n",
        "    # Membuat objek Calculator dengan nilai awal 10\n",
        "    calc1 = Calculator(initial_value=10)\n",
        "\n",
        "    # Menggunakan metode dari objek calc1\n",
        "    calc1.add(5)         # Menambah 5 ke nilai calc1\n",
        "    calc1.subtract(3)    # Mengurangi 3 dari nilai calc1\n",
        "    calc1.show_value()   # Menampilkan nilai calc1\n",
        "\n",
        "    # Membuat objek Calculator lainnya dengan nilai awal default (0)\n",
        "    calc2 = Calculator()\n",
        "    calc2.add(20)        # Menambah 20 ke nilai calc2\n",
        "    calc2.show_value()   # Menampilkan nilai calc2\n",
        "\n",
        "    # Penjelasan peran self:\n",
        "    # 'self' memungkinkan setiap instance (calc1, calc2) memiliki atribut 'value' masing-masing.\n",
        "    # Perubahan yang dilakukan pada calc1 tidak akan mempengaruhi calc2, karena masing-masing\n",
        "    # mengacu pada self yang berbeda (instance yang berbeda).\n",
        "\n",
        "\n",
        "if __name__ == \"__main__\":\n",
        "    main()\n"
      ],
      "metadata": {
        "id": "XevVleKE4KhF",
        "outputId": "0d05d0f3-3683-437f-d3dd-a0726b3c972f",
        "colab": {
          "base_uri": "https://localhost:8080/"
        }
      },
      "execution_count": null,
      "outputs": [
        {
          "output_type": "stream",
          "name": "stdout",
          "text": [
            "Kalkulator diinisialisasi dengan nilai: 10\n",
            "Setelah penambahan 5, nilai sekarang adalah: 15\n",
            "Setelah pengurangan 3, nilai sekarang adalah: 12\n",
            "Nilai saat ini adalah: 12\n",
            "Kalkulator diinisialisasi dengan nilai: 0\n",
            "Setelah penambahan 20, nilai sekarang adalah: 20\n",
            "Nilai saat ini adalah: 20\n"
          ]
        }
      ]
    },
    {
      "cell_type": "markdown",
      "source": [
        "##Praktikum 06: Menggunakan getter, setter, dan dekorator @property untuk mengelola akses atribut"
      ],
      "metadata": {
        "id": "bNI_xV694JaO"
      }
    },
    {
      "cell_type": "markdown",
      "source": [
        "Di bawah ini adalah contoh kode Python yang menjelaskan cara menggunakan getter, setter, dan dekorator @property untuk mengelola akses ke atribut yang bersifat provat. Contoh ini menggunakan kelas Person yang memiliki atribut privat name dan age. Getter dan setter digunakan untuk mengakses dan memodifikasi atribut tersebut dengan validasi yang sesuai UML kelas diagram Person."
      ],
      "metadata": {
        "id": "FUVhfDiXB0_G"
      }
    },
    {
      "cell_type": "code",
      "source": [
        "class Person:\n",
        "    def __init__(self, name, age):\n",
        "        \"\"\"\n",
        "        Konstruktor untuk menginisialisasi objek Person dengan nama dan umur.\n",
        "        Atribut privat (dengan double underscore) menyimpan data internal.\n",
        "        \"\"\"\n",
        "        self.__name = name\n",
        "        self.__age = age\n",
        "\n",
        "    @property\n",
        "    def name(self):\n",
        "        \"\"\"\n",
        "        Getter untuk atribut name.\n",
        "        Mengembalikan nilai dari __name.\n",
        "        \"\"\"\n",
        "        return self.__name\n",
        "\n",
        "    @name.setter\n",
        "    def name(self, value):\n",
        "        \"\"\"\n",
        "        Setter untuk atribut name.\n",
        "        Memeriksa apakah nilai tidak kosong sebelum mengubah nilai __name.\n",
        "        \"\"\"\n",
        "        if not value:\n",
        "            print(\"Nama tidak boleh kosong.\")\n",
        "        else:\n",
        "            self.__name = value\n",
        "\n",
        "    @property\n",
        "    def age(self):\n",
        "        \"\"\"\n",
        "        Getter untuk atribut age.\n",
        "        Mengembalikan nilai dari __age.\n",
        "        \"\"\"\n",
        "        return self.__age\n",
        "\n",
        "    @age.setter\n",
        "    def age(self, value):\n",
        "        \"\"\"\n",
        "        Setter untuk atribut age.\n",
        "        Memeriksa apakah nilai umur tidak negatif sebelum mengubah nilai __age.\n",
        "        \"\"\"\n",
        "        if value < 0:\n",
        "            print(\"Umur tidak boleh negatif!\")\n",
        "        else:\n",
        "            self.__age = value\n",
        "\n",
        "\n",
        "# Contoh penggunaan\n",
        "def main():\n",
        "    # Membuat objek Person dengan nama \"Alice\" dan umur 30\n",
        "    person = Person(\"Alice\", 30)\n",
        "    print(f\"Nama: {person.name}, Umur: {person.age}\")\n",
        "\n",
        "    # Mengubah nama dan umur melalui setter\n",
        "    person.name = \"Bob\"\n",
        "    person.age = 35\n",
        "    print(f\"Nama baru: {person.name}, Umur baru: {person.age}\")\n",
        "\n",
        "    # Mencoba menetapkan nilai yang tidak valid untuk umur\n",
        "    person.age = -5  # Akan memunculkan pesan error karena validasi umur negatif\n",
        "\n",
        "\n",
        "if __name__ == \"__main__\":\n",
        "    main()\n"
      ],
      "metadata": {
        "id": "vPg_8ybK3-xh",
        "outputId": "5e5d5a3c-eb43-4859-8397-044ac5bb264e",
        "colab": {
          "base_uri": "https://localhost:8080/"
        }
      },
      "execution_count": null,
      "outputs": [
        {
          "output_type": "stream",
          "name": "stdout",
          "text": [
            "Nama: Alice, Umur: 30\n",
            "Nama baru: Bob, Umur baru: 35\n",
            "Umur tidak boleh negatif!\n"
          ]
        }
      ]
    },
    {
      "cell_type": "markdown",
      "source": [
        "#PENUGASAN"
      ],
      "metadata": {
        "id": "HgG0IcJh5Ndu"
      }
    },
    {
      "cell_type": "markdown",
      "source": [
        "✓\tBuatlah sebuah kelas Python bernama Student.\n",
        "\n",
        "\n",
        "*   Kelas ini harus memiliki atribut privat: __name, __score, dan __grade.\n",
        "*   Tambahkan konstruktor (__init__) untuk menginisialisasi name dan score.\n",
        "\n",
        "✓\tTambahkan getter dan setter menggunakan @property untuk atribut name dan score.\n",
        "\n",
        "\n",
        "*   Validasi score: harus berada di antara 0 hingga 100.\n",
        "*   Jika nilai score berubah, maka grade juga harus di-update secara otomatis (gunakan fungsi setter atau method internal).\n",
        "\n",
        "*   Rentang nilai dan grade:\n",
        "\n",
        "▪\t90–100 → A\n",
        "\n",
        "▪\t80–89 → B\n",
        "\n",
        "▪\t70–79 → C\n",
        "\n",
        "▪\t60–69 → D\n",
        "\n",
        "▪\t<60 → E\n",
        "\n",
        "✓\tTambahkan method show_info() yang menampilkan informasi lengkap mahasiswa:\n",
        "Nama Mahasiswa: <name>\n",
        "Nilai: <score>\n",
        "Grade: <grade>\n",
        "\n",
        "✓\tTambahkan destruktor __del__ yang mencetak: Data mahasiswa <name> telah dihapus dari sistem.\n"
      ],
      "metadata": {
        "id": "dmFwTnSY88ay"
      }
    },
    {
      "cell_type": "code",
      "source": [
        "class Student:\n",
        "    def __init__(self, name, score):\n",
        "        self.__name = name\n",
        "        self.__score = 0\n",
        "        self.__grade = \"\"\n",
        "        self.__score_ubah = False\n",
        "        self.__init_in_progress = True\n",
        "        self.score = score\n",
        "        self.__init_in_progress = False\n",
        "\n",
        "    @property\n",
        "    def name(self):\n",
        "        return self.__name\n",
        "\n",
        "    @name.setter\n",
        "    def name(self, value):\n",
        "        if not value:\n",
        "            print(\"Nama mahasiswa tidak boleh kosong.\")\n",
        "        else:\n",
        "            self.__name = value\n",
        "\n",
        "    @property\n",
        "    def score(self):\n",
        "        return self.__score\n",
        "\n",
        "    @score.setter\n",
        "    def score(self, value):\n",
        "        if not (0 <= value <= 100):\n",
        "            print(\"Score harus berada pada range 0-100\")\n",
        "        else:\n",
        "            self.__score = value\n",
        "            if not self.__init_in_progress:\n",
        "                self.__score_ubah = True\n",
        "            self.__update_grade()\n",
        "\n",
        "    def __update_grade(self):\n",
        "        if self.__score >= 90:\n",
        "            self.__grade = \"A\"\n",
        "        elif self.__score >= 80:\n",
        "            self.__grade = \"B\"\n",
        "        elif self.__score >= 70:\n",
        "            self.__grade = \"C\"\n",
        "        elif self.__score >= 60:\n",
        "            self.__grade = \"D\"\n",
        "        else:\n",
        "            self.__grade = \"E\"\n",
        "\n",
        "    def show_info(self):\n",
        "        if self.__score_ubah:\n",
        "            print(\"Nilai diubah...\")\n",
        "            self.__score_ubah = False\n",
        "        print(f\"Nama Mahasiswa: {self.__name}\")\n",
        "        print(f\"Nilai: {self.__score}\")\n",
        "        print(f\"Grade: {self.__grade}\")\n",
        "\n",
        "    def __del__(self):\n",
        "        print(f\"Data mahasiswa {self.__name} telah dihapus dari sistem.\")\n",
        "\n",
        "# Contoh penggunaan\n",
        "def main():\n",
        "    student01 = Student(\"Septia\", 87)\n",
        "\n",
        "    student01.show_info()\n",
        "    print()\n",
        "    student01.score = 92\n",
        "    student01.show_info()\n",
        "\n",
        "    print()\n",
        "    del student01\n",
        "\n",
        "main()"
      ],
      "metadata": {
        "id": "LzKroRkS42RI",
        "outputId": "f6128a6a-68bc-422d-c28c-374c7cfc0322",
        "colab": {
          "base_uri": "https://localhost:8080/"
        }
      },
      "execution_count": 17,
      "outputs": [
        {
          "output_type": "stream",
          "name": "stdout",
          "text": [
            "Nama Mahasiswa: Septia\n",
            "Nilai: 87\n",
            "Grade: B\n",
            "\n",
            "Nilai diubah...\n",
            "Nama Mahasiswa: Septia\n",
            "Nilai: 92\n",
            "Grade: A\n",
            "\n",
            "Data mahasiswa Septia telah dihapus dari sistem.\n"
          ]
        }
      ]
    }
  ]
}